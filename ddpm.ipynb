{
  "nbformat": 4,
  "nbformat_minor": 0,
  "metadata": {
    "colab": {
      "provenance": [],
      "collapsed_sections": [],
      "authorship_tag": "ABX9TyNGXdzu9rIflH0AUUs9OfUx",
      "include_colab_link": true
    },
    "kernelspec": {
      "name": "python3",
      "display_name": "Python 3"
    },
    "language_info": {
      "name": "python"
    },
    "accelerator": "GPU",
    "gpuClass": "standard"
  },
  "cells": [
    {
      "cell_type": "markdown",
      "metadata": {
        "id": "view-in-github",
        "colab_type": "text"
      },
      "source": [
        "<a href=\"https://colab.research.google.com/github/ichiyan/BrainDecoding/blob/master/ddpm.ipynb\" target=\"_parent\"><img src=\"https://colab.research.google.com/assets/colab-badge.svg\" alt=\"Open In Colab\"/></a>"
      ]
    },
    {
      "cell_type": "code",
      "execution_count": 3,
      "metadata": {
        "id": "gzcJ7NfCCn3b"
      },
      "outputs": [],
      "source": [
        "# import os\n",
        "import torch\n",
        "import torch.nn as nn\n",
        "from torch import optim\n",
        "from tqdm import tqdm\n",
        "from matplotlib import pyplot as plt\n",
        "import logging\n",
        "\n",
        "logging.basicConfig(format=\"%(asctime)s - %(levelname)s: %(message)s\", level=logging.INFO, datefmt = \"%I:%M:%S\")"
      ]
    },
    {
      "cell_type": "markdown",
      "source": [
        "Basic Diffusion (still in pixel space)"
      ],
      "metadata": {
        "id": "M-AXXaf6Q-Ld"
      }
    },
    {
      "cell_type": "code",
      "source": [
        "# TODO\n",
        "#  - replace img with image latent embeddings\n",
        "#  - improve based on fast AI and LDM/SD\n",
        "#  - add text cells for formulas used (see notes)\n",
        "\n",
        "class Diffusion:\n",
        "  def __int(self, noise_steps=1000, beta_start=1e-4, beta_end=0.02, img_size=64, device=\"cuda\"):\n",
        "    self.noise_steps = noise_steps\n",
        "    self.beta_start = beta_start\n",
        "    self.beta_end = beta_end\n",
        "    self.img_size = img_size\n",
        "    self.device = device\n",
        "\n",
        "    self.beta = self.prepare_noise_schedule().to(device)\n",
        "    self.alpha = 1. - self.beta\n",
        "    self.alpha_hat = torch.cumprod(self.alpha, dim=0)\n",
        "\n",
        "  # linear beta schedule\n",
        "  # TODO: check whether to use cosine schedule (as in OpenAI) instead \n",
        "  def prepare_noise_schedule(self):\n",
        "    return torch.linspace(self.beta_start, self.beta_end, self.noise_steps)\n",
        "\n",
        "  # adding noise in one single step (see formula in notes) instead of adding noise iteratively\n",
        "  def noise_images(self, x, t):\n",
        "    sqrt_alpha_hat = torch.sqrt(self.alpha_hat[t])[:, None, None, None]\n",
        "    sqrt_one_minus_alpha_hat = torch.sqrt(1. - self.alpha_hat[t])[:, None, None, None]\n",
        "    epsilon = torch.randn_like(x)\n",
        "    return sqrt_alpha_hat * x + sqrt_one_minus_alpha_hat * epsilon, epsilon\n",
        "\n",
        "  def sample_timesteps(self, n):\n",
        "    return torch.randint(low=1, high=self.noise_steps, size=(n,))\n",
        "\n",
        "  def sample(self, model, n):\n",
        "    logging.info(f\"Sampling {n} new images...\")\n",
        "    model.eval()\n",
        "    with torch.no_grad():\n",
        "      # create initial images by sampling from the normal distribution \n",
        "      x = torch.randn((n, 3, self.img_size, self.img_size)).to(self.device)\n",
        "      # denoising loop\n",
        "      for i in tqdm(reversed(range(1, self.noise_steps)), position=0):\n",
        "        # creating timestep (tensor of length n with the current timestep)\n",
        "        t = (torch.ones(n) * i).long().to(self.device)\n",
        "        predicted_noise = model(x, t)\n",
        "        alpha = self.alpha[t][:, None, None, None]\n",
        "        alpha_hat = self.alpha_hat[t][:, None, None, None]\n",
        "        beta = self.beta[t][:, None, None, None]\n",
        "\n",
        "        if i > 1:\n",
        "          noise = torch.randn_like(x)\n",
        "        else:\n",
        "          noise = torch.zeros_like(x)\n",
        "\n",
        "        # remove portion of noise in image\n",
        "        x = 1 / torch.sqrt(alpha) * (x - ((1 - alpha) / (torch.sqrt(1 - alpha_hat))) * predicted_noise) + torch.sqrt(beta) * noise\n",
        "      \n",
        "      model.train()\n",
        "      # clip values and then bring values back to 0-1\n",
        "      x = (x.clamp(-1, 1) + 1) / 2\n",
        "      # convert to valid pixel range and change data type for saving\n",
        "      x = (x * 255).type(torch.uint8)\n",
        "\n",
        "      return x\n",
        "\n",
        "\n",
        "\n",
        "\n",
        "\n",
        "  \n"
      ],
      "metadata": {
        "id": "BN9ybKx9Eluk"
      },
      "execution_count": 6,
      "outputs": []
    },
    {
      "cell_type": "markdown",
      "source": [
        "UNet Model "
      ],
      "metadata": {
        "id": "CLH0nwbfQgHc"
      }
    },
    {
      "cell_type": "code",
      "source": [
        "class UNet(nn.Module):\n",
        "  pass\n"
      ],
      "metadata": {
        "id": "HcgsvqYJQi-l"
      },
      "execution_count": null,
      "outputs": []
    }
  ]
}